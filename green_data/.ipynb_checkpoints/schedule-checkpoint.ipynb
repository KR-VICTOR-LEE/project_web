{
 "cells": [
  {
   "cell_type": "code",
   "execution_count": 5,
   "id": "83fb1c4d",
   "metadata": {},
   "outputs": [
    {
     "name": "stdout",
     "output_type": "stream",
     "text": [
      "\n",
      "     월요일 수요일 금요일\n",
      "1교시   국어  국어  국어\n",
      "2교시   수학  영어  영어\n",
      "3교시  NaN  수학  수학\n"
     ]
    }
   ],
   "source": [
    "import pandas as pd\n",
    "\n",
    "# 데이터 생성\n",
    "월 = pd.Series({'1교시':'국어','2교시':'수학'})\n",
    "수 = pd.Series({'1교시':'국어','2교시':'영어','3교시':'수학'})\n",
    "금 = pd.Series({'2교시':'수학','3교시':'국어'})\n",
    "# DataFrame\n",
    "학원시간표 = pd.DataFrame({\n",
    "    '월요일':월,\n",
    "    '수요일':수,\n",
    "    '금요일':수\n",
    "})\n",
    "print()\n",
    "print(학원시간표)"
   ]
  },
  {
   "cell_type": "code",
   "execution_count": null,
   "id": "9f149361",
   "metadata": {},
   "outputs": [],
   "source": []
  }
 ],
 "metadata": {
  "kernelspec": {
   "display_name": "Python 3 (ipykernel)",
   "language": "python",
   "name": "python3"
  },
  "language_info": {
   "codemirror_mode": {
    "name": "ipython",
    "version": 3
   },
   "file_extension": ".py",
   "mimetype": "text/x-python",
   "name": "python",
   "nbconvert_exporter": "python",
   "pygments_lexer": "ipython3",
   "version": "3.10.9"
  }
 },
 "nbformat": 4,
 "nbformat_minor": 5
}
