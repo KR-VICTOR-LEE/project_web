{
 "cells": [
  {
   "cell_type": "code",
   "execution_count": 16,
   "id": "3572447b",
   "metadata": {},
   "outputs": [
    {
     "name": "stdout",
     "output_type": "stream",
     "text": [
      "<urllib.request.Request object at 0x0000024927862DA0>\n"
     ]
    }
   ],
   "source": [
    "import urllib.request\n",
    "\n",
    "# 네이버API 서비스(ID/비번) 등록\n",
    "client_id = 'ny6bGuoTc1rZm8pQTcfY'\n",
    "client_secret = 'DeDlX8zght'\n",
    "\n",
    "encText = urllib.request.quote('jjfyk789')\n",
    "# print(encText)\n",
    "url = 'https://openapi.naver.com/v1/search/blog.json' + encText\n",
    "#print(url)\n",
    "\n",
    "request = urllib.request.Request(url)\n",
    "request.add_header('X-Naver-Client-Id', client_id) # header로 아이디 / 비번 보내줌\n",
    "request.add_header('X-Naver-Client-Secret', client_secret)\n",
    "\n",
    "response = urllib.request.urlopen(request) #request.get(url) 유사함\n",
    "print(response.getcode()) # 상태코드\n",
    "print(type(response))\n",
    "response.read().decode('utf-8')\n"
   ]
  },
  {
   "cell_type": "code",
   "execution_count": null,
   "id": "3e907762",
   "metadata": {},
   "outputs": [],
   "source": []
  }
 ],
 "metadata": {
  "kernelspec": {
   "display_name": "Python 3 (ipykernel)",
   "language": "python",
   "name": "python3"
  },
  "language_info": {
   "codemirror_mode": {
    "name": "ipython",
    "version": 3
   },
   "file_extension": ".py",
   "mimetype": "text/x-python",
   "name": "python",
   "nbconvert_exporter": "python",
   "pygments_lexer": "ipython3",
   "version": "3.10.9"
  }
 },
 "nbformat": 4,
 "nbformat_minor": 5
}
