{
 "cells": [
  {
   "cell_type": "code",
   "execution_count": 5,
   "id": "d7612c4e",
   "metadata": {},
   "outputs": [
    {
     "data": {
      "text/plain": [
       "array([3, 5, 7])"
      ]
     },
     "execution_count": 5,
     "metadata": {},
     "output_type": "execute_result"
    }
   ],
   "source": [
    "import numpy as np\n",
    "\n",
    "# 넘파이 배열(리스트) 생성하기\n",
    "a = np.arange(10)\n",
    "a\n",
    "\n",
    "a2 = np.arange(3, 9, 1)\n",
    "a2\n",
    "\n",
    "a3 = np.arange(3, 9, 2)\n",
    "a3\n",
    "\n",
    "\n"
   ]
  },
  {
   "cell_type": "code",
   "execution_count": 7,
   "id": "5d99ece0",
   "metadata": {},
   "outputs": [
    {
     "data": {
      "text/plain": [
       "array([1, 2, 3, 4])"
      ]
     },
     "execution_count": 7,
     "metadata": {},
     "output_type": "execute_result"
    }
   ],
   "source": [
    "# 넘파이 배열(리스트) 생성하기\n",
    "b = [1,2,3,4]\n",
    "array = np.array(b)\n",
    "array\n"
   ]
  },
  {
   "cell_type": "code",
   "execution_count": 13,
   "id": "247c324f",
   "metadata": {},
   "outputs": [
    {
     "data": {
      "text/plain": [
       "array(['봄', '여름', '가을', '겨울'], dtype='<U2')"
      ]
     },
     "execution_count": 13,
     "metadata": {},
     "output_type": "execute_result"
    }
   ],
   "source": [
    "c = ['봄','여름','가을','겨울']\n",
    "arr2 = np.array(c)\n",
    "arr2"
   ]
  },
  {
   "cell_type": "code",
   "execution_count": null,
   "id": "105f3f5e",
   "metadata": {},
   "outputs": [],
   "source": [
    "import numpy as np\n",
    "팀 = np.array(['SSG','LG','키움',''])"
   ]
  }
 ],
 "metadata": {
  "kernelspec": {
   "display_name": "Python 3 (ipykernel)",
   "language": "python",
   "name": "python3"
  },
  "language_info": {
   "codemirror_mode": {
    "name": "ipython",
    "version": 3
   },
   "file_extension": ".py",
   "mimetype": "text/x-python",
   "name": "python",
   "nbconvert_exporter": "python",
   "pygments_lexer": "ipython3",
   "version": "3.10.9"
  }
 },
 "nbformat": 4,
 "nbformat_minor": 5
}
